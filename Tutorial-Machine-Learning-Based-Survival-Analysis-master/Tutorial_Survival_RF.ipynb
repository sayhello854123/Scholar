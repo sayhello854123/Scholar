{
 "cells": [
  {
   "cell_type": "markdown",
   "metadata": {},
   "source": [
    "## Survival Analysis: Based on Random Forest\n",
    "\n",
    "The tutorial gives typical workflow of Random Forest-based survival analysis including data-preprocessing, model selection and traning&validation, and uses R package `randomForestSRC`.\n",
    "\n",
    "Formally, it can be listed by:\n",
    "1. Data Preprocessing\n",
    "  - convert variables\n",
    "  - load training and test set\n",
    "2. Model Selection\n",
    "  - cross validation\n",
    "  - tune parameters\n",
    "3. Traning&Validation\n",
    "  - train RFS model\n",
    "  - measure CI on testset\n",
    "  - survival rates on time of interest\n",
    "  \n",
    "If you are confused about how Random Forest-based survival analysis works, you can read official documents in [here](https://kogalur.github.io/randomForestSRC/theory.html)."
   ]
  },
  {
   "cell_type": "markdown",
   "metadata": {},
   "source": [
    "### Step0 - Load library and Data"
   ]
  },
  {
   "cell_type": "code",
   "execution_count": 1,
   "metadata": {},
   "outputs": [
    {
     "name": "stderr",
     "output_type": "stream",
     "text": [
      "Warning message:\n",
      "\"package 'randomForestSRC' was built under R version 3.5.1\"\n",
      " randomForestSRC 2.7.0 \n",
      " \n",
      " Type rfsrc.news() to see new features, changes, and bug fixes. \n",
      " \n",
      "\n"
     ]
    }
   ],
   "source": [
    "library('survival')\n",
    "library('randomForestSRC')\n",
    "# set random state\n",
    "set.seed(0)"
   ]
  },
  {
   "cell_type": "code",
   "execution_count": 2,
   "metadata": {},
   "outputs": [
    {
     "name": "stdout",
     "output_type": "stream",
     "text": [
      "Number of samples: 137 \n",
      "Columns of dataset: trt celltype time status karno diagtime age prior \n"
     ]
    },
    {
     "data": {
      "text/html": [
       "<table>\n",
       "<thead><tr><th scope=col>trt</th><th scope=col>celltype</th><th scope=col>time</th><th scope=col>status</th><th scope=col>karno</th><th scope=col>diagtime</th><th scope=col>age</th><th scope=col>prior</th></tr></thead>\n",
       "<tbody>\n",
       "\t<tr><td>1  </td><td>1  </td><td> 72</td><td>1  </td><td>60 </td><td> 7 </td><td>69 </td><td> 0 </td></tr>\n",
       "\t<tr><td>1  </td><td>1  </td><td>411</td><td>1  </td><td>70 </td><td> 5 </td><td>64 </td><td>10 </td></tr>\n",
       "\t<tr><td>1  </td><td>1  </td><td>228</td><td>1  </td><td>60 </td><td> 3 </td><td>38 </td><td> 0 </td></tr>\n",
       "\t<tr><td>1  </td><td>1  </td><td>126</td><td>1  </td><td>60 </td><td> 9 </td><td>63 </td><td>10 </td></tr>\n",
       "\t<tr><td>1  </td><td>1  </td><td>118</td><td>1  </td><td>70 </td><td>11 </td><td>65 </td><td>10 </td></tr>\n",
       "</tbody>\n",
       "</table>\n"
      ],
      "text/latex": [
       "\\begin{tabular}{r|llllllll}\n",
       " trt & celltype & time & status & karno & diagtime & age & prior\\\\\n",
       "\\hline\n",
       "\t 1   & 1   &  72 & 1   & 60  &  7  & 69  &  0 \\\\\n",
       "\t 1   & 1   & 411 & 1   & 70  &  5  & 64  & 10 \\\\\n",
       "\t 1   & 1   & 228 & 1   & 60  &  3  & 38  &  0 \\\\\n",
       "\t 1   & 1   & 126 & 1   & 60  &  9  & 63  & 10 \\\\\n",
       "\t 1   & 1   & 118 & 1   & 70  & 11  & 65  & 10 \\\\\n",
       "\\end{tabular}\n"
      ],
      "text/markdown": [
       "\n",
       "trt | celltype | time | status | karno | diagtime | age | prior | \n",
       "|---|---|---|---|---|\n",
       "| 1   | 1   |  72 | 1   | 60  |  7  | 69  |  0  | \n",
       "| 1   | 1   | 411 | 1   | 70  |  5  | 64  | 10  | \n",
       "| 1   | 1   | 228 | 1   | 60  |  3  | 38  |  0  | \n",
       "| 1   | 1   | 126 | 1   | 60  |  9  | 63  | 10  | \n",
       "| 1   | 1   | 118 | 1   | 70  | 11  | 65  | 10  | \n",
       "\n",
       "\n"
      ],
      "text/plain": [
       "  trt celltype time status karno diagtime age prior\n",
       "1 1   1         72  1      60     7       69   0   \n",
       "2 1   1        411  1      70     5       64  10   \n",
       "3 1   1        228  1      60     3       38   0   \n",
       "4 1   1        126  1      60     9       63  10   \n",
       "5 1   1        118  1      70    11       65  10   "
      ]
     },
     "metadata": {},
     "output_type": "display_data"
    }
   ],
   "source": [
    "data(veteran, package = \"randomForestSRC\")\n",
    "cat(\"Number of samples:\", nrow(veteran), \"\\n\")\n",
    "cat(\"Columns of dataset:\", colnames(veteran), \"\\n\")\n",
    "veteran[c(1:5), ]"
   ]
  },
  {
   "cell_type": "markdown",
   "metadata": {},
   "source": [
    "### Step1 - Data Preprocessing\n",
    "\n",
    "You can split dataset into training and test or directly load data by reading files"
   ]
  },
  {
   "cell_type": "code",
   "execution_count": 3,
   "metadata": {
    "collapsed": true
   },
   "outputs": [],
   "source": [
    "# Sample the data and create a training subset.\n",
    "train <- sample(1:nrow(veteran), round(nrow(veteran) * 0.80))\n",
    "data_train <- veteran[train, ]\n",
    "data_test <- veteran[-train, ]"
   ]
  },
  {
   "cell_type": "markdown",
   "metadata": {},
   "source": [
    "### Step2 - Model Selection\n",
    "\n",
    "This section includes hyperparameters tuning by repeated k-fold cross validation on training set.\n",
    "\n",
    "As described by author of `RandomSurvivalForest`, we can do model selection with the help of conventions below.\n",
    "> Reasonable models can be formed with the judicious selection of `mtry`, `nsplit`, `nodesize`, and `nodedepth` without exhaustive and deterministic splitting\n",
    "\n",
    "**Optional Reading:**\n",
    "You can try to get the best hyperparameters' estimation by using python package `hyperopt`.\n",
    "\n",
    "By the means of described, repeated 4-fold cross validation on training set for 3 times is used, besides, `mtry` and `nsplit` is fixed to defult and 0 respectively, results of searching are:\n",
    "- \"ci\": 0.7422341993268755 (mean value of cross validation)\n",
    "- \"params\": {\"mtry\": 5, \"nodesize\": 8, \"ntree\": 100}"
   ]
  },
  {
   "cell_type": "code",
   "execution_count": null,
   "metadata": {
    "collapsed": true
   },
   "outputs": [],
   "source": []
  },
  {
   "cell_type": "markdown",
   "metadata": {},
   "source": [
    "### Step3 - Model Training & Evaluation"
   ]
  },
  {
   "cell_type": "markdown",
   "metadata": {},
   "source": [
    "We will pass arguments to object `rfsrc` for training robust model after completing hyperparameters tuning, and then validate our fitted model using test set.\n",
    "\n",
    "Here, evaluation and more in this section includes:\n",
    "- calculating CI metrics\n",
    "- calculating survival rate on specified time\n",
    "- saving result as file\n",
    "\n",
    "**Notes:**\n",
    "\n",
    "The RFS's prediction for individual $i$ is the sum of CHE(cumulative hazard estimate) on time of death $t_i$.\n",
    "\n",
    "$$\n",
    "\\begin{equation}\n",
    "\\mathcal{M}_i = \\sum_{k=1}^{M}\\hat{H}_e^*(t_k^*|{\\bf X}_i).\n",
    "\\end{equation}\n",
    "$$\n",
    "\n",
    "You can understand it via [this](https://kogalur.github.io/randomForestSRC/theory.html)"
   ]
  },
  {
   "cell_type": "markdown",
   "metadata": {},
   "source": [
    "#### 3.0 - Model Training"
   ]
  },
  {
   "cell_type": "code",
   "execution_count": 4,
   "metadata": {},
   "outputs": [
    {
     "name": "stdout",
     "output_type": "stream",
     "text": [
      "                         Sample size: 110\n",
      "                    Number of deaths: 102\n",
      "                     Number of trees: 100\n",
      "           Forest terminal node size: 8\n",
      "       Average no. of terminal nodes: 14.67\n",
      "No. of variables tried at each split: 5\n",
      "              Total no. of variables: 6\n",
      "       Resampling used to grow trees: swr\n",
      "    Resample size used to grow trees: 110\n",
      "                            Analysis: RSF\n",
      "                              Family: surv\n",
      "                      Splitting rule: logrank\n",
      "                          Error rate: 28.32%\n",
      "\n",
      "  Sample size of test (predict) data: 27\n",
      "       Number of deaths in test data: 26\n",
      "                Number of grow trees: 100\n",
      "  Average no. of grow terminal nodes: 14.67\n",
      "         Total no. of grow variables: 6\n",
      "       Resampling used to grow trees: swr\n",
      "    Resample size used to grow trees: 110\n",
      "                            Analysis: RSF\n",
      "                              Family: surv\n",
      "                 Test set error rate: 36.57%\n",
      "\n"
     ]
    }
   ],
   "source": [
    "# pass arguments we got before\n",
    "# Train the model.\n",
    "model <- rfsrc(Surv(time, status) ~ ., data_train, ntree=100, mtry=5, nodesize=8, nsplit=0, seed=0)\n",
    "# Test the model\n",
    "pred <- predict(model, data_test)\n",
    "# Compare the results.\n",
    "print(model)\n",
    "print(pred)"
   ]
  },
  {
   "cell_type": "markdown",
   "metadata": {},
   "source": [
    "#### 3.1 - CI (concordance index)\n",
    "\n",
    "We can get $1-\\text{CI}$ (concordance index) by any of three below:\n",
    "- Test set error in the output of `print(veteran.pred)`\n",
    "- built-in methods `cindex(T, E, Pred)`\n",
    "- function `rcorr.cens` from package `Hmisc`"
   ]
  },
  {
   "cell_type": "code",
   "execution_count": 5,
   "metadata": {},
   "outputs": [
    {
     "data": {
      "text/html": [
       "0.634328358208955"
      ],
      "text/latex": [
       "0.634328358208955"
      ],
      "text/markdown": [
       "0.634328358208955"
      ],
      "text/plain": [
       "[1] 0.6343284"
      ]
     },
     "metadata": {},
     "output_type": "display_data"
    }
   ],
   "source": [
    "# pred$chf denotes CHE(cumulative hazard estimate) on all time of death for individual i\n",
    "# pred$predicted denotes the sum of CHE(cumulative hazard estimate) on all time of death for individual i\n",
    "cindex(data_test$time, data_test$status, -pred$predicted)"
   ]
  },
  {
   "cell_type": "code",
   "execution_count": 6,
   "metadata": {},
   "outputs": [
    {
     "data": {
      "text/html": [
       "<dl class=dl-horizontal>\n",
       "\t<dt>C Index</dt>\n",
       "\t\t<dd>0.634730538922156</dd>\n",
       "\t<dt>Dxy</dt>\n",
       "\t\t<dd>0.269461077844311</dd>\n",
       "\t<dt>S.D.</dt>\n",
       "\t\t<dd>0.160118312203759</dd>\n",
       "\t<dt>n</dt>\n",
       "\t\t<dd>27</dd>\n",
       "\t<dt>missing</dt>\n",
       "\t\t<dd>0</dd>\n",
       "\t<dt>uncensored</dt>\n",
       "\t\t<dd>26</dd>\n",
       "\t<dt>Relevant Pairs</dt>\n",
       "\t\t<dd>668</dd>\n",
       "\t<dt>Concordant</dt>\n",
       "\t\t<dd>424</dd>\n",
       "\t<dt>Uncertain</dt>\n",
       "\t\t<dd>32</dd>\n",
       "</dl>\n"
      ],
      "text/latex": [
       "\\begin{description*}\n",
       "\\item[C Index] 0.634730538922156\n",
       "\\item[Dxy] 0.269461077844311\n",
       "\\item[S.D.] 0.160118312203759\n",
       "\\item[n] 27\n",
       "\\item[missing] 0\n",
       "\\item[uncensored] 26\n",
       "\\item[Relevant Pairs] 668\n",
       "\\item[Concordant] 424\n",
       "\\item[Uncertain] 32\n",
       "\\end{description*}\n"
      ],
      "text/markdown": [
       "C Index\n",
       ":   0.634730538922156Dxy\n",
       ":   0.269461077844311S.D.\n",
       ":   0.160118312203759n\n",
       ":   27missing\n",
       ":   0uncensored\n",
       ":   26Relevant Pairs\n",
       ":   668Concordant\n",
       ":   424Uncertain\n",
       ":   32\n",
       "\n"
      ],
      "text/plain": [
       "       C Index            Dxy           S.D.              n        missing \n",
       "     0.6347305      0.2694611      0.1601183     27.0000000      0.0000000 \n",
       "    uncensored Relevant Pairs     Concordant      Uncertain \n",
       "    26.0000000    668.0000000    424.0000000     32.0000000 "
      ]
     },
     "metadata": {},
     "output_type": "display_data"
    }
   ],
   "source": [
    "Hmisc::rcorr.cens(-pred$predicted, Surv(data_test$time, data_test$status))"
   ]
  },
  {
   "cell_type": "markdown",
   "metadata": {},
   "source": [
    "#### 3.2 - Survival function\n",
    "\n",
    "Prediction of survival function on test set can be accessed by `veteran.pred$survival`"
   ]
  },
  {
   "cell_type": "code",
   "execution_count": 7,
   "metadata": {},
   "outputs": [
    {
     "name": "stdout",
     "output_type": "stream",
     "text": [
      " [1]   1   3   4   7   8  10  11  12  13  15  16  18  19  20  21  24  25  27  29\n",
      "[20]  30  31  33  35  36  42  44  45  48  49  51  52  53  54  56  59  61  63  73\n",
      "[39]  80  82  84  87  92  95  99 103 105 110 112 117 126 133 139 140 143 144 151\n",
      "[58] 153 156 162 177 186 200 216 228 242 250 260 278 283 287 314 357 378 389 411\n",
      "[77] 467 587 991 999\n"
     ]
    }
   ],
   "source": [
    "# All time of deaths \n",
    "print(pred$time.interest)"
   ]
  },
  {
   "cell_type": "code",
   "execution_count": 8,
   "metadata": {},
   "outputs": [
    {
     "name": "stdout",
     "output_type": "stream",
     "text": [
      "Survival rate for each item in test set at time 15 \n",
      " [1] 0.9555864 0.9454676 0.9241747 0.8264598 0.9511024 0.9492909 0.8080744\n",
      " [8] 0.9699793 0.3235795 0.9883923 0.9851045 0.5597983 0.9789650 0.9924810\n",
      "[15] 0.9065259 0.9132871 0.6536961 0.5232299 0.8691400 0.9617306 0.9305516\n",
      "[22] 0.9306988 0.5388088 0.9556418 0.9743820 0.9436184 0.9608178\n"
     ]
    }
   ],
   "source": [
    "time_idx <- 10\n",
    "# Surival rate at specified time\n",
    "cat(\"Survival rate for each item in test set at time\", pred$time.interest[time_idx], \"\\n\")\n",
    "print(pred$survival[, time_idx])"
   ]
  },
  {
   "cell_type": "markdown",
   "metadata": {},
   "source": [
    "#### 3.3 - Saving as file\n",
    "\n",
    "Here, we concate test data and prediction, survival rate, and then convert it to csv file."
   ]
  },
  {
   "cell_type": "code",
   "execution_count": 9,
   "metadata": {
    "collapsed": true
   },
   "outputs": [],
   "source": [
    "res_test <- data_test\n",
    "# predicted outcome for test set\n",
    "res_test$pred <- pred$predicted\n",
    "res_test$survival_rate <- pred$survival[, time_idx]"
   ]
  },
  {
   "cell_type": "code",
   "execution_count": 10,
   "metadata": {
    "collapsed": true
   },
   "outputs": [],
   "source": [
    "write.csv(res_test, file = \"result_rsf.csv\")"
   ]
  },
  {
   "cell_type": "markdown",
   "metadata": {},
   "source": [
    "### In the end\n",
    "\n",
    "If you find something wrong or confused, feel free to concact me via raising **issue on github** or sending e-mail to **yuukilp@163.com**"
   ]
  }
 ],
 "metadata": {
  "kernelspec": {
   "display_name": "R",
   "language": "R",
   "name": "ir"
  },
  "language_info": {
   "codemirror_mode": "r",
   "file_extension": ".r",
   "mimetype": "text/x-r-source",
   "name": "R",
   "pygments_lexer": "r",
   "version": "3.5.0"
  }
 },
 "nbformat": 4,
 "nbformat_minor": 2
}
